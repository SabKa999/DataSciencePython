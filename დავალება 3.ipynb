{
 "cells": [
  {
   "cell_type": "markdown",
   "metadata": {},
   "source": [
    "1. ჩატვირთეთ **Seaborn-ის** **tips** მონაცემთა სეტი **DataFrame**-ში Seaborn-ის ფუნქციის გამოყენებით.  \n",
    "შემდეგ დააჯგუფეთ ისე რომ მიიღოთ ახალი **DataFrame**, სადაც გვექნება კვირის დღეები და მათი **total_bill**-ის საშუალოები **.groupby()** ფუნქციის გამოყენებით"
   ]
  },
  {
   "cell_type": "code",
   "execution_count": null,
   "metadata": {},
   "outputs": [],
   "source": []
  },
  {
   "cell_type": "markdown",
   "metadata": {},
   "source": [
    "2. შექმენით სვეტოვანი გრაფიკი წინა დავალებიდან მიღებული საბოლოო **DataFrame**-ის გამოყენებით. **x** ღერძზე უნდა იყოს კვირის დღეები და **y** ღერძზე უნდა იყოს **total_bill**-ის საშუალო"
   ]
  },
  {
   "cell_type": "code",
   "execution_count": null,
   "metadata": {},
   "outputs": [],
   "source": []
  }
 ],
 "metadata": {
  "kernelspec": {
   "display_name": "Python 3",
   "language": "python",
   "name": "python3"
  },
  "language_info": {
   "codemirror_mode": {
    "name": "ipython",
    "version": 3
   },
   "file_extension": ".py",
   "mimetype": "text/x-python",
   "name": "python",
   "nbconvert_exporter": "python",
   "pygments_lexer": "ipython3",
   "version": "3.11.7"
  }
 },
 "nbformat": 4,
 "nbformat_minor": 2
}
