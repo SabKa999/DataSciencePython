{
 "cells": [
  {
   "cell_type": "markdown",
   "metadata": {},
   "source": [
    "1. შექმენით 2 სია, შემდეგ გადააქციეთ Numpy მასივად და გადაამრავლეთ 2 ნაირად:\n",
    "    1) 2 ვექტორის სკალარული ნამრავლის ფუნქცია\n",
    "    2) მარტივი არითმეტიკული ოპერაციებითა და **.sum()** მეთოდის გამოყენებით"
   ]
  },
  {
   "cell_type": "code",
   "execution_count": null,
   "metadata": {},
   "outputs": [],
   "source": []
  },
  {
   "cell_type": "markdown",
   "metadata": {},
   "source": [
    "2. შექმენით ორი 2 განზომილებიანი მატრიც: პირველი უნდა იყოს 3x3 ფორმის, მეორე უნდა იყოს 3x1 ფორმის.\n",
    "    1. გამოითვალეთ ამ ორი მატრიცის ელემენტების ჯამი.\n",
    "    2. გამოითვალეთ ამ ორი მატრიცის ნამრავლი: ფუნქციის გამოყენებით, ოპერატორის გამოყენებით.\n"
   ]
  },
  {
   "cell_type": "code",
   "execution_count": null,
   "metadata": {},
   "outputs": [],
   "source": []
  }
 ],
 "metadata": {
  "kernelspec": {
   "display_name": "Python 3",
   "language": "python",
   "name": "python3"
  },
  "language_info": {
   "codemirror_mode": {
    "name": "ipython",
    "version": 3
   },
   "file_extension": ".py",
   "mimetype": "text/x-python",
   "name": "python",
   "nbconvert_exporter": "python",
   "pygments_lexer": "ipython3",
   "version": "3.11.7"
  }
 },
 "nbformat": 4,
 "nbformat_minor": 2
}
